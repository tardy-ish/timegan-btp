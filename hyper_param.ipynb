{
 "cells": [
  {
   "cell_type": "code",
   "execution_count": 2,
   "metadata": {},
   "outputs": [
    {
     "data": {
      "text/plain": [
       "' python3 --image_path ./data/images/ --img_count -1  --epochs 300 --batch_size 8  --loss msle --gpu_num 3 '"
      ]
     },
     "execution_count": 2,
     "metadata": {},
     "output_type": "execute_result"
    }
   ],
   "source": [
    "#for autoEncDec\n",
    "import pyperclip\n",
    "\n",
    "py_cmd = ['py','python','python3'][2]\n",
    "image_path = './data/images/'\n",
    "img_count = -1\n",
    "epochs = 300\n",
    "batch_size = 8\n",
    "loss = 'msle'\n",
    "gpu_num = 3\n",
    "cmd =   f\"\"\"\n",
    "{py_cmd} autoEncDec.py --image_path {image_path} --img_count {img_count} \n",
    "--epochs {epochs} --batch_size {batch_size} \n",
    "--loss {loss} --gpu_num {gpu_num}\n",
    "\"\"\"\n",
    "cmd = cmd.replace('\\n',' ')\n",
    "\n",
    "pyperclip.copy(cmd)\n",
    "cmd"
   ]
  }
 ],
 "metadata": {
  "kernelspec": {
   "display_name": "Python 3.8.8 ('base')",
   "language": "python",
   "name": "python3"
  },
  "language_info": {
   "codemirror_mode": {
    "name": "ipython",
    "version": 3
   },
   "file_extension": ".py",
   "mimetype": "text/x-python",
   "name": "python",
   "nbconvert_exporter": "python",
   "pygments_lexer": "ipython3",
   "version": "3.8.8"
  },
  "orig_nbformat": 4,
  "vscode": {
   "interpreter": {
    "hash": "7d538d13e50b75e392d544ee6b0fe1e750165f0c6b6f7a37df936653f5d14b2e"
   }
  }
 },
 "nbformat": 4,
 "nbformat_minor": 2
}
