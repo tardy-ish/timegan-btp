{
 "cells": [
  {
   "cell_type": "code",
   "execution_count": 7,
   "metadata": {},
   "outputs": [
    {
     "name": "stderr",
     "output_type": "stream",
     "text": [
      "c:\\Users\\Tardy\\anaconda3\\lib\\site-packages\\scipy\\__init__.py:138: UserWarning: A NumPy version >=1.16.5 and <1.23.0 is required for this version of SciPy (detected version 1.23.2)\n",
      "  warnings.warn(f\"A NumPy version >={np_minversion} and <{np_maxversion} is required for this version of \"\n",
      "<frozen importlib._bootstrap>:219: RuntimeWarning: numpy.ndarray size changed, may indicate binary incompatibility. Expected 80 from C header, got 96 from PyObject\n"
     ]
    }
   ],
   "source": [
    "import os\n",
    "import numpy as np\n",
    "from sklearn.model_selection import train_test_split\n",
    "from tensorflow import keras\n",
    "import argparse\n",
    "from datetime import datetime\n",
    "import pytz\n",
    "import csv"
   ]
  },
  {
   "cell_type": "code",
   "execution_count": null,
   "metadata": {},
   "outputs": [],
   "source": [
    "def get_scale(enc):\n",
    "    s = enc.layers[0].output_shape[0][1]\n",
    "    s = 1024//s\n",
    "    return s"
   ]
  },
  {
   "cell_type": "code",
   "execution_count": null,
   "metadata": {},
   "outputs": [],
   "source": [
    "def change_model(dec,s):\n",
    "    inp_shape = (32//s,32//s,8)\n",
    "    code_input_layer = keras.Input(shape=inp_shape, name=\"CODE_INPUT\")\n",
    "    x = code_input_layer\n",
    "    for lay in dec.layers[1:]:\n",
    "        x = lay(x)\n",
    "    new_dec = keras.Model(code_input_layer,x)\n",
    "    return new_dec"
   ]
  },
  {
   "cell_type": "code",
   "execution_count": null,
   "metadata": {},
   "outputs": [],
   "source": [
    "fld = f\"./autoencoder_models/2022-08-22-11-06\"\n",
    "encoder = keras.models.load_model(f\"{fld}/encoder.h5\", compile=False)\n",
    "decoder = keras.models.load_model(f\"{fld}/decoder.h5\", compile=False)\n",
    "encoder.summary()"
   ]
  },
  {
   "cell_type": "code",
   "execution_count": null,
   "metadata": {},
   "outputs": [],
   "source": [
    "decoder.layers[-1].output_shape[1]"
   ]
  },
  {
   "cell_type": "code",
   "execution_count": null,
   "metadata": {},
   "outputs": [],
   "source": []
  },
  {
   "cell_type": "code",
   "execution_count": null,
   "metadata": {},
   "outputs": [],
   "source": [
    "s = get_scale(encoder)\n",
    "d = change_model(decoder,s)\n",
    "d.summary()"
   ]
  },
  {
   "cell_type": "code",
   "execution_count": 1,
   "metadata": {},
   "outputs": [],
   "source": [
    "from PIL import Image\n",
    "from PIL import ImageFont\n",
    "from PIL import ImageDraw\n",
    "import os"
   ]
  },
  {
   "cell_type": "code",
   "execution_count": 25,
   "metadata": {},
   "outputs": [],
   "source": [
    "def timegan_sat(data,fld,n,s):\n",
    "    data = data*255.0\n",
    "    # dir_path = f\"./timeGAN_results/sat/{fld}\"\n",
    "    # if not os.path.exists(f\"{dir_path}\"):\n",
    "    #     os.mkdir(f\"{dir_path}\")\n",
    "    \n",
    "    bckg = Image.new(mode=\"RGB\",size=(1270,220),color=(255,255,255))\n",
    "    for k in range(n):\n",
    "        if k%6 == 0:\n",
    "            bckg.save(f\"./temp/{k//6}.png\")\n",
    "            bckg = Image.new(mode=\"RGB\",size=(1270,220),color=(255,255,255))\n",
    "            x = 10\n",
    "        img = data[k].reshape((data.shape[1],data.shape[1]))\n",
    "        img = Image.fromarray(img)\n",
    "        bckg.paste(img.resize((200,200)),(x,10))\n",
    "        x += 210\n",
    "\n",
    "        "
   ]
  },
  {
   "cell_type": "code",
   "execution_count": 4,
   "metadata": {},
   "outputs": [],
   "source": [
    "from data_processing import import_sat"
   ]
  },
  {
   "cell_type": "code",
   "execution_count": 29,
   "metadata": {},
   "outputs": [
    {
     "name": "stdout",
     "output_type": "stream",
     "text": [
      "4/4 [==============================] - 1s 196ms/step\n",
      "4/4 [==============================] - 3s 620ms/step\n",
      "(120, 256, 256, 1) (120, 8, 8, 8) (120, 256, 256, 1)\n"
     ]
    }
   ],
   "source": [
    "n = 120\n",
    "data = import_sat(\"./data/sat_images/\",n,4)\n",
    "fld = \"./autoencoder_models/2022-08-22-12-21\"\n",
    "encoder = keras.models.load_model(f\"{fld}/encoder.h5\", compile=False)\n",
    "decoder = keras.models.load_model(f\"{fld}/decoder.h5\", compile=False)\n",
    "enc_data = encoder.predict(data)\n",
    "dec_data = decoder.predict(enc_data)\n",
    "timegan_sat(dec_data,\"\",n,6)\n",
    "print(data.shape,enc_data.shape,dec_data.shape)"
   ]
  },
  {
   "cell_type": "code",
   "execution_count": 17,
   "metadata": {},
   "outputs": [
    {
     "data": {
      "text/plain": [
       "256"
      ]
     },
     "execution_count": 17,
     "metadata": {},
     "output_type": "execute_result"
    }
   ],
   "source": [
    "dec_data.shape[1]"
   ]
  },
  {
   "cell_type": "code",
   "execution_count": 28,
   "metadata": {},
   "outputs": [],
   "source": []
  },
  {
   "cell_type": "markdown",
   "metadata": {},
   "source": []
  }
 ],
 "metadata": {
  "kernelspec": {
   "display_name": "Python 3.8.8 ('base')",
   "language": "python",
   "name": "python3"
  },
  "language_info": {
   "codemirror_mode": {
    "name": "ipython",
    "version": 3
   },
   "file_extension": ".py",
   "mimetype": "text/x-python",
   "name": "python",
   "nbconvert_exporter": "python",
   "pygments_lexer": "ipython3",
   "version": "3.8.8"
  },
  "orig_nbformat": 4,
  "vscode": {
   "interpreter": {
    "hash": "7d538d13e50b75e392d544ee6b0fe1e750165f0c6b6f7a37df936653f5d14b2e"
   }
  }
 },
 "nbformat": 4,
 "nbformat_minor": 2
}
