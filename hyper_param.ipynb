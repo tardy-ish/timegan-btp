{
 "cells": [
  {
   "cell_type": "code",
   "execution_count": 8,
   "metadata": {},
   "outputs": [
    {
     "data": {
      "text/plain": [
       "'python3 autoEncDec.py --image_path ./data/images/ --img_count -1 --epochs 300 --batch_size 8 --loss msle --gpu_num 3'"
      ]
     },
     "execution_count": 8,
     "metadata": {},
     "output_type": "execute_result"
    }
   ],
   "source": [
    "#for autoEncDec\n",
    "import pyperclip\n",
    "\n",
    "py_cmd = ['py','python','python3'][2]\n",
    "image_path = './data/images/'\n",
    "img_count = -1\n",
    "epochs = 300\n",
    "batch_size = 8\n",
    "loss = 'msle'\n",
    "gpu_num = 3\n",
    "cmd =   f\"\"\"\n",
    "{py_cmd} autoEncDec.py --image_path {image_path} \n",
    "--img_count {img_count} --epochs {epochs} \n",
    "--batch_size {batch_size} --loss {loss} \n",
    "--gpu_num {gpu_num}\n",
    "\"\"\"\n",
    "cmd = cmd.replace('\\n','')\n",
    "\n",
    "pyperclip.copy(cmd)\n",
    "cmd"
   ]
  },
  {
   "cell_type": "code",
   "execution_count": 10,
   "metadata": {},
   "outputs": [
    {
     "data": {
      "text/plain": [
       "'python3 autoEncDec.py --seq_len 24 --n_seq 6 --hidden_dim 6 --gamma 1 --noise_dim 32 --dim 128 --batch_size 8 --log_step 100 --lr 0.0005 --gpu_num 3 --image_path ./data/images/ --img_count -1'"
      ]
     },
     "execution_count": 10,
     "metadata": {},
     "output_type": "execute_result"
    }
   ],
   "source": [
    "#for test_model\n",
    "import pyperclip\n",
    "\n",
    "py_cmd = ['py','python','python3'][2]\n",
    "\n",
    "seq_len = 24\n",
    "n_seq = 6\n",
    "hidden_dim = 6\n",
    "gamma = 1\n",
    "\n",
    "noise_dim = 32\n",
    "dim = 128\n",
    "batch_size = 8\n",
    "\n",
    "log_step = 100\n",
    "lr = 5e-4\n",
    "gpu_num = 3\n",
    "\n",
    "image_path = './data/images/'\n",
    "img_count = -1\n",
    "\n",
    "cmd =   f\"\"\"\n",
    "{py_cmd} autoEncDec.py --seq_len {seq_len} --n_seq {n_seq} \n",
    "--hidden_dim {hidden_dim} --gamma {gamma} \n",
    "--noise_dim {noise_dim} --dim {dim} --batch_size {batch_size} \n",
    "--log_step {log_step} --lr {lr} --gpu_num {gpu_num} \n",
    "--image_path {image_path} --img_count {img_count}\n",
    "\"\"\"\n",
    "cmd = cmd.replace('\\n','')\n",
    "\n",
    "pyperclip.copy(cmd)\n",
    "cmd"
   ]
  },
  {
   "cell_type": "code",
   "execution_count": 1,
   "metadata": {},
   "outputs": [
    {
     "name": "stderr",
     "output_type": "stream",
     "text": [
      "c:\\Users\\Tardy\\anaconda3\\lib\\site-packages\\scipy\\__init__.py:138: UserWarning: A NumPy version >=1.16.5 and <1.23.0 is required for this version of SciPy (detected version 1.23.2)\n",
      "  warnings.warn(f\"A NumPy version >={np_minversion} and <{np_maxversion} is required for this version of \"\n"
     ]
    }
   ],
   "source": [
    "from os import path\n",
    "import pandas as pd\n",
    "import numpy as np\n",
    "import matplotlib.pyplot as plt\n",
    "import argparse\n",
    "import os\n",
    "\n",
    "from ydata_synthetic.synthesizers import ModelParameters\n",
    "from ydata_synthetic.preprocessing.timeseries import processed_stock\n",
    "from ydata_synthetic.synthesizers.timeseries import TimeGAN\n",
    "\n",
    "from results_save import result_compile_mnist"
   ]
  },
  {
   "cell_type": "code",
   "execution_count": 2,
   "metadata": {},
   "outputs": [],
   "source": [
    "fld = f\"./timeGAN_models/mnist/2022-08-19-21-46/timeGAN_model.pk1\"\n",
    "synth = TimeGAN.load(fld)\n",
    "\n"
   ]
  },
  {
   "cell_type": "code",
   "execution_count": 3,
   "metadata": {},
   "outputs": [
    {
     "name": "stderr",
     "output_type": "stream",
     "text": [
      "Synthetic data generation: 100%|██████████| 6/6 [00:01<00:00,  3.65it/s]\n"
     ]
    }
   ],
   "source": [
    "synth_data = synth.sample(40)\n",
    "\n"
   ]
  },
  {
   "cell_type": "code",
   "execution_count": 4,
   "metadata": {},
   "outputs": [
    {
     "data": {
      "text/plain": [
       "(48, 24, 784)"
      ]
     },
     "execution_count": 4,
     "metadata": {},
     "output_type": "execute_result"
    }
   ],
   "source": [
    "synth_data.shape"
   ]
  },
  {
   "cell_type": "code",
   "execution_count": 17,
   "metadata": {},
   "outputs": [],
   "source": [
    "n,s,_ = synth_data.shape\n",
    "from PIL import Image"
   ]
  },
  {
   "cell_type": "code",
   "execution_count": 24,
   "metadata": {},
   "outputs": [],
   "source": [
    "bckg = Image.new(mode=\"RGB\",size=(410,160),color=(255,255,255))\n",
    "# result_compile_mnist(synth_data,'2022-08-19-21-46',n,s)\n",
    "img = Image.fromarray(synth_data[0][0*8+0].reshape((28,28)))\n",
    "bckg.paste(img.resize((40,40)),(10,10))\n",
    "bckg.save('./temp/0.png')"
   ]
  }
 ],
 "metadata": {
  "kernelspec": {
   "display_name": "Python 3.8.8 ('base')",
   "language": "python",
   "name": "python3"
  },
  "language_info": {
   "codemirror_mode": {
    "name": "ipython",
    "version": 3
   },
   "file_extension": ".py",
   "mimetype": "text/x-python",
   "name": "python",
   "nbconvert_exporter": "python",
   "pygments_lexer": "ipython3",
   "version": "3.8.8"
  },
  "orig_nbformat": 4,
  "vscode": {
   "interpreter": {
    "hash": "7d538d13e50b75e392d544ee6b0fe1e750165f0c6b6f7a37df936653f5d14b2e"
   }
  }
 },
 "nbformat": 4,
 "nbformat_minor": 2
}
