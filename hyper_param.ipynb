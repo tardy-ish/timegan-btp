{
 "cells": [
  {
   "cell_type": "code",
   "execution_count": 8,
   "metadata": {},
   "outputs": [
    {
     "data": {
      "text/plain": [
       "'python3 autoEncDec.py --image_path ./data/images/ --img_count -1 --epochs 300 --batch_size 8 --loss msle --gpu_num 3'"
      ]
     },
     "execution_count": 8,
     "metadata": {},
     "output_type": "execute_result"
    }
   ],
   "source": [
    "#for autoEncDec\n",
    "import pyperclip\n",
    "\n",
    "py_cmd = ['py','python','python3'][2]\n",
    "image_path = './data/images/'\n",
    "img_count = -1\n",
    "epochs = 300\n",
    "batch_size = 8\n",
    "loss = 'msle'\n",
    "gpu_num = 3\n",
    "cmd =   f\"\"\"\n",
    "{py_cmd} autoEncDec.py --image_path {image_path} \n",
    "--img_count {img_count} --epochs {epochs} \n",
    "--batch_size {batch_size} --loss {loss} \n",
    "--gpu_num {gpu_num}\n",
    "\"\"\"\n",
    "cmd = cmd.replace('\\n','')\n",
    "\n",
    "pyperclip.copy(cmd)\n",
    "cmd"
   ]
  },
  {
   "cell_type": "code",
   "execution_count": 10,
   "metadata": {},
   "outputs": [
    {
     "data": {
      "text/plain": [
       "'python3 autoEncDec.py --seq_len 24 --n_seq 6 --hidden_dim 6 --gamma 1 --noise_dim 32 --dim 128 --batch_size 8 --log_step 100 --lr 0.0005 --gpu_num 3 --image_path ./data/images/ --img_count -1'"
      ]
     },
     "execution_count": 10,
     "metadata": {},
     "output_type": "execute_result"
    }
   ],
   "source": [
    "#for test_model\n",
    "import pyperclip\n",
    "\n",
    "py_cmd = ['py','python','python3'][2]\n",
    "\n",
    "seq_len = 24\n",
    "n_seq = 6\n",
    "hidden_dim = 6\n",
    "gamma = 1\n",
    "\n",
    "noise_dim = 32\n",
    "dim = 128\n",
    "batch_size = 8\n",
    "\n",
    "log_step = 100\n",
    "lr = 5e-4\n",
    "gpu_num = 3\n",
    "\n",
    "image_path = './data/images/'\n",
    "img_count = -1\n",
    "\n",
    "cmd =   f\"\"\"\n",
    "{py_cmd} autoEncDec.py --seq_len {seq_len} --n_seq {n_seq} \n",
    "--hidden_dim {hidden_dim} --gamma {gamma} \n",
    "--noise_dim {noise_dim} --dim {dim} --batch_size {batch_size} \n",
    "--log_step {log_step} --lr {lr} --gpu_num {gpu_num} \n",
    "--image_path {image_path} --img_count {img_count}\n",
    "\"\"\"\n",
    "cmd = cmd.replace('\\n','')\n",
    "\n",
    "pyperclip.copy(cmd)\n",
    "cmd"
   ]
  }
 ],
 "metadata": {
  "kernelspec": {
   "display_name": "Python 3.8.8 ('base')",
   "language": "python",
   "name": "python3"
  },
  "language_info": {
   "codemirror_mode": {
    "name": "ipython",
    "version": 3
   },
   "file_extension": ".py",
   "mimetype": "text/x-python",
   "name": "python",
   "nbconvert_exporter": "python",
   "pygments_lexer": "ipython3",
   "version": "3.8.8"
  },
  "orig_nbformat": 4,
  "vscode": {
   "interpreter": {
    "hash": "7d538d13e50b75e392d544ee6b0fe1e750165f0c6b6f7a37df936653f5d14b2e"
   }
  }
 },
 "nbformat": 4,
 "nbformat_minor": 2
}
